{
  "nbformat": 4,
  "nbformat_minor": 0,
  "metadata": {
    "colab": {
      "provenance": [],
      "authorship_tag": "ABX9TyPU00YuiVg4e78SRZ9FBily",
      "include_colab_link": true
    },
    "kernelspec": {
      "name": "python3",
      "display_name": "Python 3"
    },
    "language_info": {
      "name": "python"
    }
  },
  "cells": [
    {
      "cell_type": "markdown",
      "metadata": {
        "id": "view-in-github",
        "colab_type": "text"
      },
      "source": [
        "<a href=\"https://colab.research.google.com/github/sandy100061/MachineLearningAssignment/blob/main/Assignment2/Code/Question4.ipynb\" target=\"_parent\"><img src=\"https://colab.research.google.com/assets/colab-badge.svg\" alt=\"Open In Colab\"/></a>"
      ]
    },
    {
      "cell_type": "code",
      "execution_count": 81,
      "metadata": {
        "colab": {
          "base_uri": "https://localhost:8080/"
        },
        "id": "qpyuJ1CLU8fL",
        "outputId": "e8056615-432b-49c1-adc1-4e1d7a565061"
      },
      "outputs": [
        {
          "output_type": "stream",
          "name": "stdout",
          "text": [
            "Input list : [1, 2, 3, 3, 3, 3, 4, 5]\n",
            "Unique list : [1, 2, 3, 4, 5]\n"
          ]
        }
      ],
      "source": [
        "\"\"\"\n",
        "4. Write a function that takes a list and returns a new list with unique items of the first list.\n",
        "Sample List: [1,2,3,3,3,3,4,5]\n",
        "Unique List: [1, 2, 3, 4, 5]\n",
        "\"\"\"\n",
        "def getUniqueList(inputList: list):\n",
        "  result = set()\n",
        "  for item in inputList:\n",
        "    result.add(item)\n",
        "  return list(result)\n",
        "\n",
        "x = [1,2,3,3,3,3,4,5]\n",
        "result = getUniqueList(x)\n",
        "print(f'Input list : {x}')\n",
        "print(f'Unique list : {result}')"
      ]
    }
  ]
}