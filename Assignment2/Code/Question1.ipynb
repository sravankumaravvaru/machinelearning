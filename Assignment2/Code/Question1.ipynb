{
  "nbformat": 4,
  "nbformat_minor": 0,
  "metadata": {
    "colab": {
      "provenance": [],
      "authorship_tag": "ABX9TyMwxXafeCYGlUIjwqW2suEz",
      "include_colab_link": true
    },
    "kernelspec": {
      "name": "python3",
      "display_name": "Python 3"
    },
    "language_info": {
      "name": "python"
    }
  },
  "cells": [
    {
      "cell_type": "markdown",
      "metadata": {
        "id": "view-in-github",
        "colab_type": "text"
      },
      "source": [
        "<a href=\"https://colab.research.google.com/github/sandy100061/MachineLearningAssignment/blob/main/Assignment2/Code/Question1.ipynb\" target=\"_parent\"><img src=\"https://colab.research.google.com/assets/colab-badge.svg\" alt=\"Open In Colab\"/></a>"
      ]
    },
    {
      "cell_type": "code",
      "execution_count": 20,
      "metadata": {
        "colab": {
          "base_uri": "https://localhost:8080/"
        },
        "id": "qpyuJ1CLU8fL",
        "outputId": "267fb32e-487c-4814-c7ac-52a47d424fbd"
      },
      "outputs": [
        {
          "output_type": "stream",
          "name": "stdout",
          "text": [
            "* \n",
            "* * \n",
            "* * * \n",
            "* * * * \n",
            "* * * * * \n",
            "* * * * \n",
            "* * * \n",
            "* * \n",
            "* \n"
          ]
        }
      ],
      "source": [
        "#1. Use a python code to display the following star pattern using the for loop\n",
        "max = 5\n",
        "i = 0\n",
        "while i < max:\n",
        "  j = 0\n",
        "  while j <= i:\n",
        "    print(\"*\", end =\" \")\n",
        "    j += 1\n",
        "  print('')\n",
        "  i += 1\n",
        "\n",
        "i = max - 1\n",
        "while i > 0:\n",
        "  j = i\n",
        "  while j > 0:\n",
        "    print(\"*\", end =\" \")\n",
        "    j -= 1\n",
        "  print('')\n",
        "  i -= 1\n",
        "\n"
      ]
    }
  ]
}