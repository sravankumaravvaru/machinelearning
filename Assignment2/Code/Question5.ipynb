{
  "nbformat": 4,
  "nbformat_minor": 0,
  "metadata": {
    "colab": {
      "provenance": [],
      "authorship_tag": "ABX9TyN8tLkFHmuKx7Z6IR9oSC8j",
      "include_colab_link": true
    },
    "kernelspec": {
      "name": "python3",
      "display_name": "Python 3"
    },
    "language_info": {
      "name": "python"
    }
  },
  "cells": [
    {
      "cell_type": "markdown",
      "metadata": {
        "id": "view-in-github",
        "colab_type": "text"
      },
      "source": [
        "<a href=\"https://colab.research.google.com/github/sandy100061/MachineLearningAssignment/blob/main/Assignment2/Code/Question5.ipynb\" target=\"_parent\"><img src=\"https://colab.research.google.com/assets/colab-badge.svg\" alt=\"Open In Colab\"/></a>"
      ]
    },
    {
      "cell_type": "code",
      "execution_count": 88,
      "metadata": {
        "colab": {
          "base_uri": "https://localhost:8080/"
        },
        "id": "qpyuJ1CLU8fL",
        "outputId": "ca729e0f-3497-4f9f-fb05-28857c877f6f"
      },
      "outputs": [
        {
          "output_type": "stream",
          "name": "stdout",
          "text": [
            "Input String: 'The quick Brow Fox'\n",
            "No. of Upper-case characters: 3\n",
            "No. of Lower-case characters: 12\n"
          ]
        }
      ],
      "source": [
        "\"\"\"\n",
        "5. Write a function that accepts a string and calculate the number of upper-case letters and lower-case\n",
        "letters.\n",
        "Input String: 'The quick Brow Fox'\n",
        "Expected Output:\n",
        "No. of Upper-case characters: 3\n",
        "No. of Lower-case Characters: 12\n",
        "\"\"\"\n",
        "def calculateLetterCount(input: str):\n",
        "  upperCount = 0\n",
        "  lowerCount = 0\n",
        "  for item in input:\n",
        "    if item == ' ':\n",
        "      continue\n",
        "    if item.upper() == item:\n",
        "      upperCount += 1\n",
        "    else:\n",
        "      lowerCount += 1\n",
        "  print(f'No. of Upper-case characters: {upperCount}')\n",
        "  print(f'No. of Lower-case characters: {lowerCount}')\n",
        "\n",
        "inputStr = 'The quick Brow Fox'\n",
        "print(f\"Input String: '{inputStr}'\")\n",
        "calculateLetterCount(inputStr)\n"
      ]
    }
  ]
}