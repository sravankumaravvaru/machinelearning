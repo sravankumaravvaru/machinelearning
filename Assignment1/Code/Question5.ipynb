{
  "nbformat": 4,
  "nbformat_minor": 0,
  "metadata": {
    "colab": {
      "provenance": [],
      "authorship_tag": "ABX9TyMzUit6KrC6HcEak8vKXBEE",
      "include_colab_link": true
    },
    "kernelspec": {
      "name": "python3",
      "display_name": "Python 3"
    },
    "language_info": {
      "name": "python"
    }
  },
  "cells": [
    {
      "cell_type": "markdown",
      "metadata": {
        "id": "view-in-github",
        "colab_type": "text"
      },
      "source": [
        "<a href=\"https://colab.research.google.com/github/sandy100061/MachineLearningAssignment/blob/main/Question5.ipynb\" target=\"_parent\"><img src=\"https://colab.research.google.com/assets/colab-badge.svg\" alt=\"Open In Colab\"/></a>"
      ]
    },
    {
      "cell_type": "code",
      "execution_count": 7,
      "metadata": {
        "colab": {
          "base_uri": "https://localhost:8080/"
        },
        "id": "P0Hoo6bkIADX",
        "outputId": "41867040-e888-40d3-90eb-66eadc895bf3"
      },
      "outputs": [
        {
          "output_type": "stream",
          "name": "stdout",
          "text": [
            "---------------Question 5 -> Point 1-----------------\n",
            "Area of circle with radius 30 is 2827.4333882308138\n",
            "\n",
            "---------------Question 5 -> Point 2-----------------\n",
            "Circumference of a circle with radius 30 is 188.49555921538757\n",
            "\n",
            "---------------Question 5 -> Point 3-----------------\n",
            "Please enter radius :25\n",
            "Area of circle with radius 25.0 is 1963.4954084936207\n",
            "\n"
          ]
        }
      ],
      "source": [
        "import math\n",
        "\n",
        "print('---------------Question 5 -> Point 1-----------------')\n",
        "radius = 30\n",
        "_area_of_circle_ = math.pi * (radius**2)\n",
        "print(f'Area of circle with radius {radius} is {_area_of_circle_}')\n",
        "print('')\n",
        "\n",
        "#----------------------------------------------------\n",
        "print('---------------Question 5 -> Point 2-----------------')\n",
        "radius = 30\n",
        "_circum_of_circle_ = 2 * math.pi * radius\n",
        "print(f'Circumference of a circle with radius {radius} is {_circum_of_circle_}')\n",
        "print('')\n",
        "\n",
        "#----------------------------------------------------\n",
        "print('---------------Question 5 -> Point 3-----------------')\n",
        "radius = float(input(\"Please enter radius :\"))\n",
        "_area_of_circle_ = math.pi * (radius**2)\n",
        "print(f'Area of circle with radius {radius} is {_area_of_circle_}')\n",
        "print('')\n",
        "\n",
        "#----------------------------------------------------\n",
        "\n"
      ]
    }
  ]
}