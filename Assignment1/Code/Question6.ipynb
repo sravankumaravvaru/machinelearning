{
  "nbformat": 4,
  "nbformat_minor": 0,
  "metadata": {
    "colab": {
      "provenance": [],
      "authorship_tag": "ABX9TyPSxQRi/aseAMtsF7a8vpd7",
      "include_colab_link": true
    },
    "kernelspec": {
      "name": "python3",
      "display_name": "Python 3"
    },
    "language_info": {
      "name": "python"
    }
  },
  "cells": [
    {
      "cell_type": "markdown",
      "metadata": {
        "id": "view-in-github",
        "colab_type": "text"
      },
      "source": [
        "<a href=\"https://colab.research.google.com/github/sandy100061/MachineLearningAssignment/blob/main/Question6.ipynb\" target=\"_parent\"><img src=\"https://colab.research.google.com/assets/colab-badge.svg\" alt=\"Open In Colab\"/></a>"
      ]
    },
    {
      "cell_type": "code",
      "execution_count": 13,
      "metadata": {
        "colab": {
          "base_uri": "https://localhost:8080/"
        },
        "id": "P0Hoo6bkIADX",
        "outputId": "4ba5b999-eddd-445d-f63d-399ce9f2daa8"
      },
      "outputs": [
        {
          "output_type": "stream",
          "name": "stdout",
          "text": [
            "Unique words are : \n",
            "{'I', 'and', 'people', 'teacher', 'to', 'inspire', 'am', 'teach', 'love', 'a'}\n"
          ]
        }
      ],
      "source": [
        "text = \"I am a teacher and I love to inspire and teach people\"\n",
        "resultSet = set()\n",
        "for item in text.split(' '):\n",
        "    resultSet.add(item)\n",
        "print(f'Unique words are : \\n{resultSet}')"
      ]
    }
  ]
}