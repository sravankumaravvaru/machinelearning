{
  "nbformat": 4,
  "nbformat_minor": 0,
  "metadata": {
    "colab": {
      "provenance": [],
      "authorship_tag": "ABX9TyM+veQHxKuiT5WnHoO4H+Fw",
      "include_colab_link": true
    },
    "kernelspec": {
      "name": "python3",
      "display_name": "Python 3"
    },
    "language_info": {
      "name": "python"
    }
  },
  "cells": [
    {
      "cell_type": "markdown",
      "metadata": {
        "id": "view-in-github",
        "colab_type": "text"
      },
      "source": [
        "<a href=\"https://colab.research.google.com/github/sandy100061/MachineLearningAssignment/blob/main/Question3.ipynb\" target=\"_parent\"><img src=\"https://colab.research.google.com/assets/colab-badge.svg\" alt=\"Open In Colab\"/></a>"
      ]
    },
    {
      "cell_type": "code",
      "execution_count": 4,
      "metadata": {
        "colab": {
          "base_uri": "https://localhost:8080/"
        },
        "id": "P0Hoo6bkIADX",
        "outputId": "113af4a3-f0da-46b1-f1ba-edf03d90cc10"
      },
      "outputs": [
        {
          "output_type": "stream",
          "name": "stdout",
          "text": [
            "---------------Question 3 -> Point 1-----------------\n",
            "Creating typles for brothers and sisters\n",
            "\n",
            "---------------Question 3 -> Point 2-----------------\n",
            "Joining brothers and sisters tuples\n",
            "\n",
            "---------------Question 3 -> Point 3-----------------\n",
            "Total Siblings : 5\n",
            "('Daisy', 'UdayShri', 'ArunaShri', 'Sachin', 'Suresh')\n",
            "\n",
            "---------------Question 3 -> Point 4-----------------\n",
            "Family Members Count : 7\n",
            "('Daisy', 'UdayShri', 'ArunaShri', 'Sachin', 'Suresh', 'SRK', 'Vijaya')\n",
            "\n"
          ]
        }
      ],
      "source": [
        "\n",
        "print('---------------Question 3 -> Point 1-----------------')\n",
        "print('Creating typles for brothers and sisters')\n",
        "sisters = ('Daisy', 'UdayShri', 'ArunaShri')\n",
        "brothers = ('Sachin', 'Suresh')\n",
        "print('')\n",
        "\n",
        "#----------------------------------------------------\n",
        "print('---------------Question 3 -> Point 2-----------------')\n",
        "print('Joining brothers and sisters tuples')\n",
        "siblings = sisters + brothers\n",
        "print('')\n",
        "\n",
        "#----------------------------------------------------\n",
        "print('---------------Question 3 -> Point 3-----------------')\n",
        "print(f'Total Siblings : {len(siblings)}')\n",
        "print(siblings)\n",
        "print('')\n",
        "\n",
        "#----------------------------------------------------\n",
        "print('---------------Question 3 -> Point 4-----------------')\n",
        "family_members = siblings + ('SRK', 'Vijaya')\n",
        "print(f'Family Members Count : {len(family_members)}')\n",
        "print(family_members)\n",
        "print('')\n",
        "#----------------------------------------------------\n",
        "\n"
      ]
    }
  ]
}