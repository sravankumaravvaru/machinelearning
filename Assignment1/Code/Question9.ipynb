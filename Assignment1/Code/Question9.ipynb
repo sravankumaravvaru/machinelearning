{
  "nbformat": 4,
  "nbformat_minor": 0,
  "metadata": {
    "colab": {
      "provenance": [],
      "authorship_tag": "ABX9TyOVHgWIKww25VMJ26hamIpL",
      "include_colab_link": true
    },
    "kernelspec": {
      "name": "python3",
      "display_name": "Python 3"
    },
    "language_info": {
      "name": "python"
    }
  },
  "cells": [
    {
      "cell_type": "markdown",
      "metadata": {
        "id": "view-in-github",
        "colab_type": "text"
      },
      "source": [
        "<a href=\"https://colab.research.google.com/github/sandy100061/MachineLearningAssignment/blob/main/Question9.ipynb\" target=\"_parent\"><img src=\"https://colab.research.google.com/assets/colab-badge.svg\" alt=\"Open In Colab\"/></a>"
      ]
    },
    {
      "cell_type": "code",
      "execution_count": 11,
      "metadata": {
        "colab": {
          "base_uri": "https://localhost:8080/"
        },
        "id": "P0Hoo6bkIADX",
        "outputId": "a101d321-310c-46b6-efdb-bbd32fd68a66"
      },
      "outputs": [
        {
          "output_type": "stream",
          "name": "stdout",
          "text": [
            "150 155 145 148\n",
            "Values are: [68.03, 70.29, 65.76, 67.12]\n"
          ]
        }
      ],
      "source": [
        "L1=[int(num) for num in input().split(\" \")]\n",
        "W_kg=[]\n",
        "for i in L1:\n",
        "    W_kg.append(round(i / 2.205, 2))\n",
        "print (\"Values are:\",W_kg)"
      ]
    }
  ]
}