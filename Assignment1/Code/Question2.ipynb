{
  "nbformat": 4,
  "nbformat_minor": 0,
  "metadata": {
    "colab": {
      "provenance": [],
      "authorship_tag": "ABX9TyM00Tj282cKVF46SGh30A9n",
      "include_colab_link": true
    },
    "kernelspec": {
      "name": "python3",
      "display_name": "Python 3"
    },
    "language_info": {
      "name": "python"
    }
  },
  "cells": [
    {
      "cell_type": "markdown",
      "metadata": {
        "id": "view-in-github",
        "colab_type": "text"
      },
      "source": [
        "<a href=\"https://colab.research.google.com/github/sandy100061/MachineLearningAssignment/blob/main/Question2.ipynb\" target=\"_parent\"><img src=\"https://colab.research.google.com/assets/colab-badge.svg\" alt=\"Open In Colab\"/></a>"
      ]
    },
    {
      "cell_type": "code",
      "execution_count": 12,
      "metadata": {
        "colab": {
          "base_uri": "https://localhost:8080/"
        },
        "id": "P0Hoo6bkIADX",
        "outputId": "8803d7aa-4259-43e1-ec58-29b870b95dc0"
      },
      "outputs": [
        {
          "output_type": "stream",
          "name": "stdout",
          "text": [
            "---------------Question 2 -> Point 1-----------------\n",
            "Creating Empty Dog Dictionary\n",
            "\n",
            "---------------Question 2 -> Point 2-----------------\n",
            "Adding name, color, breed, legs, age to the dog dictionary\n",
            "\n",
            "---------------Question 2 -> Point 3-----------------\n",
            "Creating Empty Student Dictionary and Adding first_name, last_name, gender, age, marital status, skills, country, city and address as keys\n",
            "\n",
            "---------------Question 2 -> Point 4-----------------\n",
            "Student Dictionary Length is 9\n",
            "\n",
            "---------------Question 2 -> Point 5-----------------\n",
            "value of skills ['Python', 'Java', 'DotNet', 'CSS']\n",
            "Datatype of skills is <class 'list'>\n",
            "\n",
            "---------------Question 2 -> Point 6-----------------\n",
            "Student Skills : ['Python', 'Java', 'DotNet', 'CSS', 'Angular', 'SQL']\n",
            "\n",
            "---------------Question 2 -> Point 7-----------------\n",
            "Student Dictionary Keys:\n",
            "['first_name', 'last_name', 'gender', 'age', 'marital_status', 'skills', 'country', 'city', 'address']\n",
            "\n",
            "---------------Question 2 -> Point 8-----------------\n",
            "Student Dictionary Values:\n",
            "['Sandeep', 'Yadav', 'Male', 31, 'Single', ['Python', 'Java', 'DotNet', 'CSS', 'Angular', 'SQL'], 'USA', 'Kansas', '106th St']\n",
            "\n"
          ]
        }
      ],
      "source": [
        "\n",
        "print('---------------Question 2 -> Point 1-----------------')\n",
        "print('Creating Empty Dog Dictionary')\n",
        "dog = {}\n",
        "print('')\n",
        "\n",
        "#----------------------------------------------------\n",
        "print('---------------Question 2 -> Point 2-----------------')\n",
        "print('Adding name, color, breed, legs, age to the dog dictionary')\n",
        "dog['name'] = 'Daisy'\n",
        "dog['color'] = 'Black'\n",
        "dog['breed'] = 'Labrador Retriever'\n",
        "dog['legs'] = 4\n",
        "dog['age'] = 14\n",
        "print('')\n",
        "\n",
        "#----------------------------------------------------\n",
        "print('---------------Question 2 -> Point 3-----------------')\n",
        "print('Creating Empty Student Dictionary and Adding first_name, last_name, gender, age, marital status, skills, country, city and address as keys')\n",
        "student = {}\n",
        "\n",
        "student['first_name'] = 'Sandeep'\n",
        "student['last_name'] = 'Yadav'\n",
        "student['gender'] = 'Male'\n",
        "student['age'] = 31\n",
        "student['marital_status'] = 'Single'\n",
        "student['skills'] = ['Python', 'Java', 'DotNet', 'CSS']\n",
        "student['country'] = 'USA'\n",
        "student['city'] = 'Kansas'\n",
        "student['address'] = '106th St'\n",
        "print('')\n",
        "\n",
        "#----------------------------------------------------\n",
        "print('---------------Question 2 -> Point 4-----------------')\n",
        "studentLen = len(student)\n",
        "print(f'Student Dictionary Length is {studentLen}')\n",
        "print('')\n",
        "\n",
        "#----------------------------------------------------\n",
        "print('---------------Question 2 -> Point 5-----------------')\n",
        "skills = student['skills']\n",
        "print(f'value of skills {skills}')\n",
        "print(f'Datatype of skills is {type(skills)}')\n",
        "print('')\n",
        "\n",
        "#----------------------------------------------------\n",
        "print('---------------Question 2 -> Point 6-----------------')\n",
        "skills.append('Angular')\n",
        "skills.append('SQL')\n",
        "print(f'Student Skills : {student[\"skills\"]}')\n",
        "print('')\n",
        "\n",
        "#----------------------------------------------------\n",
        "print('---------------Question 2 -> Point 7-----------------')\n",
        "keys = list(student)\n",
        "print('Student Dictionary Keys:')\n",
        "print(f'{keys}')\n",
        "print('')\n",
        "\n",
        "#----------------------------------------------------\n",
        "print('---------------Question 2 -> Point 8-----------------')\n",
        "values = list(student.values())\n",
        "print('Student Dictionary Values:')\n",
        "print(f'{values}')\n",
        "print('')\n",
        "\n",
        "#----------------------------------------------------"
      ]
    }
  ]
}