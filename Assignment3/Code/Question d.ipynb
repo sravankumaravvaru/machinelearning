{
  "nbformat": 4,
  "nbformat_minor": 0,
  "metadata": {
    "colab": {
      "provenance": [],
      "authorship_tag": "ABX9TyN4/FBToRwqXw+hTmtDrUGg",
      "include_colab_link": true
    },
    "kernelspec": {
      "name": "python3",
      "display_name": "Python 3"
    },
    "language_info": {
      "name": "python"
    }
  },
  "cells": [
    {
      "cell_type": "markdown",
      "metadata": {
        "id": "view-in-github",
        "colab_type": "text"
      },
      "source": [
        "<a href=\"https://colab.research.google.com/github/sandy100061/MachineLearningAssignment/blob/main/Assignment3/Code/Question%20d.ipynb\" target=\"_parent\"><img src=\"https://colab.research.google.com/assets/colab-badge.svg\" alt=\"Open In Colab\"/></a>"
      ]
    },
    {
      "cell_type": "code",
      "execution_count": 11,
      "metadata": {
        "colab": {
          "base_uri": "https://localhost:8080/"
        },
        "id": "_bebLtqLGxuG",
        "outputId": "f9298e19-1c9c-4398-ca8e-66aa2c71b2be"
      },
      "outputs": [
        {
          "output_type": "stream",
          "name": "stdout",
          "text": [
            "1.d Array:  [1 2 3 4 5 6]\n",
            "1.d Reshaped array 3x2: \n",
            " [[1 2]\n",
            " [3 4]\n",
            " [5 6]]\n",
            "1.d Reshaped array 2x3: \n",
            " [[1 2 3]\n",
            " [4 5 6]]\n"
          ]
        }
      ],
      "source": [
        "import numpy as npy;\n",
        "# 1.d new shape to an array without changing its data. Reshape 3x2:\n",
        "oneD = npy.arange(1, 7)\n",
        "print (\"1.d Array: \", oneD)\n",
        "# reshape to 3x2\n",
        "oneD = oneD.reshape(3, 2)\n",
        "print (\"1.d Reshaped array 3x2: \\n\", oneD)\n",
        "# reshape to 2x3\n",
        "oneD = oneD.reshape(2, 3)\n",
        "print (\"1.d Reshaped array 2x3: \\n\", oneD)"
      ]
    }
  ]
}