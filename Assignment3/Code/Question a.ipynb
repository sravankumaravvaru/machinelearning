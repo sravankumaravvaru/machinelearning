{
  "nbformat": 4,
  "nbformat_minor": 0,
  "metadata": {
    "colab": {
      "provenance": [],
      "authorship_tag": "ABX9TyNulkXHUgZQk5Gw08N6nK54",
      "include_colab_link": true
    },
    "kernelspec": {
      "name": "python3",
      "display_name": "Python 3"
    },
    "language_info": {
      "name": "python"
    }
  },
  "cells": [
    {
      "cell_type": "markdown",
      "metadata": {
        "id": "view-in-github",
        "colab_type": "text"
      },
      "source": [
        "<a href=\"https://colab.research.google.com/github/sandy100061/MachineLearningAssignment/blob/main/Assignment3/Code/Question%20a.ipynb\" target=\"_parent\"><img src=\"https://colab.research.google.com/assets/colab-badge.svg\" alt=\"Open In Colab\"/></a>"
      ]
    },
    {
      "cell_type": "code",
      "execution_count": 4,
      "metadata": {
        "colab": {
          "base_uri": "https://localhost:8080/"
        },
        "id": "_bebLtqLGxuG",
        "outputId": "0ab8a29a-6dae-4cd8-9cfd-01582ced97ee"
      },
      "outputs": [
        {
          "output_type": "stream",
          "name": "stdout",
          "text": [
            "1.a Vector:  [ 2 17  1 16 10 15  2  9  6 11  7  7 13  2 16]\n",
            "Array after reshaped : [[ 2 17  1 16 10]\n",
            " [15  2  9  6 11]\n",
            " [ 7  7 13  2 16]]\n",
            "1.a.2 Reshaped array shape:  (3, 5)\n",
            "1.a.3 Replaced max in each row by 0: \n",
            " [[ 2  0  1 16 10]\n",
            " [ 0  2  9  6 11]\n",
            " [ 7  7 13  2  0]]\n",
            "Array:\n",
            "[[ 1  2  3]\n",
            " [ 4  5  6]\n",
            " [ 7  8  9]\n",
            " [10 11 12]]\n",
            "\n",
            "Shape: (4, 3)\n",
            "\n",
            "Type: <class 'numpy.ndarray'>\n",
            "\n",
            "Data Type: int32\n"
          ]
        }
      ],
      "source": [
        "\n",
        "import numpy as npy;\n",
        "\n",
        "# 1.a\n",
        "vector = npy.random.randint(1, 20, 15)\n",
        "print (\"1.a Vector: \", vector)\n",
        "# 1.a.1 Reshape the array to 3 by 5\n",
        "reshaped = vector.reshape(3, 5)\n",
        "print(\"Array after reshaped :\", reshaped)\n",
        "print (\"1.a.2 Reshaped array shape: \", reshaped.shape)\n",
        "\n",
        "# 1.a.3 Replace the max in each row by 0.\n",
        "for i in range(reshaped.shape[0]):\n",
        "    reshaped[i, npy.where(reshaped[i] == reshaped[i].max())] = 0\n",
        "print (\"1.a.3 Replaced max in each row by 0: \\n\", reshaped)\n",
        "\n",
        "# Create a 2-dimensional array of size 4x3 with 4-byte integer elements\n",
        "array = npy.array([[1, 2, 3],\n",
        "                  [4, 5, 6],\n",
        "                  [7, 8, 9],\n",
        "                  [10, 11, 12]], dtype=npy.int32)\n",
        "\n",
        "# Print the array\n",
        "print(\"Array:\")\n",
        "print(array)\n",
        "\n",
        "# Print the shape of the array\n",
        "print(\"\\nShape:\", array.shape)\n",
        "\n",
        "# Print the type of the array\n",
        "print(\"\\nType:\", type(array))\n",
        "\n",
        "# Print the data type of the array\n",
        "print(\"\\nData Type:\", array.dtype)"
      ]
    }
  ]
}