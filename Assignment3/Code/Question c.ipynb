{
  "nbformat": 4,
  "nbformat_minor": 0,
  "metadata": {
    "colab": {
      "provenance": [],
      "authorship_tag": "ABX9TyMd6HN7nTiyJgqzPrhQUA64",
      "include_colab_link": true
    },
    "kernelspec": {
      "name": "python3",
      "display_name": "Python 3"
    },
    "language_info": {
      "name": "python"
    }
  },
  "cells": [
    {
      "cell_type": "markdown",
      "metadata": {
        "id": "view-in-github",
        "colab_type": "text"
      },
      "source": [
        "<a href=\"https://colab.research.google.com/github/sandy100061/MachineLearningAssignment/blob/main/Assignment3/Code/Question%20c.ipynb\" target=\"_parent\"><img src=\"https://colab.research.google.com/assets/colab-badge.svg\" alt=\"Open In Colab\"/></a>"
      ]
    },
    {
      "cell_type": "code",
      "execution_count": 10,
      "metadata": {
        "colab": {
          "base_uri": "https://localhost:8080/"
        },
        "id": "_bebLtqLGxuG",
        "outputId": "7d77730b-b89d-4a1b-f3ca-a65bb94f1b18"
      },
      "outputs": [
        {
          "output_type": "stream",
          "name": "stdout",
          "text": [
            "1.c Array: \n",
            " [[0 1 2]\n",
            " [3 4 5]]\n",
            "1.c Sum of diagonal elements:  4\n"
          ]
        }
      ],
      "source": [
        "import numpy as npy;\n",
        "# 1.c sum of the diagonal element of a given array:\n",
        "oneC = npy.array([[0, 1, 2], [3, 4, 5]])\n",
        "print (\"1.c Array: \\n\", oneC)\n",
        "print (\"1.c Sum of diagonal elements: \", npy.trace(oneC))"
      ]
    }
  ]
}